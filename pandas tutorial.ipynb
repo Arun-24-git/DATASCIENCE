{
 "cells": [
  {
   "cell_type": "code",
   "execution_count": 4,
   "id": "abfc5ff6-b943-44d0-b595-ed3a6af7b68c",
   "metadata": {},
   "outputs": [
    {
     "name": "stdout",
     "output_type": "stream",
     "text": [
      "    items  price\n",
      "0    BOOK     40\n",
      "1     PEN     10\n",
      "2  PENCIL      5\n"
     ]
    }
   ],
   "source": [
    "import pandas as pd\n",
    "\n",
    "mydata={\n",
    "  'items': [\"BOOK\", \"PEN\", \"PENCIL\"],\n",
    "  'price': [40, 10, 5]\n",
    "}\n",
    "var = pd.DataFrame(mydata)\n",
    "print(var)"
   ]
  },
  {
   "cell_type": "code",
   "execution_count": 4,
   "id": "99b533c4-0311-4a29-a75c-075bc651ff8d",
   "metadata": {},
   "outputs": [
    {
     "name": "stdout",
     "output_type": "stream",
     "text": [
      "x    20\n",
      "y    10\n",
      "z    23\n",
      "dtype: int64\n"
     ]
    }
   ],
   "source": [
    "import pandas as pd\n",
    "\n",
    "y=[20,10,23]\n",
    "\n",
    "pr=pd.Series(y,index=[\"x\",\"y\",\"z\"])\n",
    "print(pr)"
   ]
  },
  {
   "cell_type": "code",
   "execution_count": 6,
   "id": "88a0dbb2-df33-47dc-a1a8-ecfead982626",
   "metadata": {},
   "outputs": [
    {
     "name": "stdout",
     "output_type": "stream",
     "text": [
      "pen         5\n",
      "pencile    10\n",
      "book       30\n",
      "dtype: int64\n"
     ]
    }
   ],
   "source": [
    "import pandas as pd\n",
    "items={\"pen\":5,\"pencile\":10,\"book\":30}\n",
    "pr=pd.Series(items)\n",
    "print(pr)"
   ]
  },
  {
   "cell_type": "code",
   "execution_count": 7,
   "id": "62ab2a79-33a0-4686-9cbd-62080c6e9ab7",
   "metadata": {},
   "outputs": [
    {
     "name": "stdout",
     "output_type": "stream",
     "text": [
      "pen      5\n",
      "book    30\n",
      "dtype: int64\n"
     ]
    }
   ],
   "source": [
    "import pandas as pd\n",
    "items={\"pen\":5,\"pencile\":10,\"book\":30}\n",
    "pr=pd.Series(items,index=[\"pen\",\"book\"])\n",
    "print(pr)"
   ]
  },
  {
   "cell_type": "code",
   "execution_count": 9,
   "id": "4af61fb2-5e8d-4b62-afd7-062cd26ed4e6",
   "metadata": {},
   "outputs": [
    {
     "name": "stdout",
     "output_type": "stream",
     "text": [
      "5\n"
     ]
    }
   ],
   "source": [
    "import pandas as pd\n",
    "items={\"pen\":5,\"pencile\":10,\"book\":30}\n",
    "pr=pd.Series(items,index=[\"pen\",\"book\"])\n",
    "print(pr.loc[\"pen\"])"
   ]
  },
  {
   "cell_type": "code",
   "execution_count": 10,
   "id": "29ddc39e-f20f-49fd-b468-a13e7a1e6c0f",
   "metadata": {},
   "outputs": [
    {
     "name": "stdout",
     "output_type": "stream",
     "text": [
      "            import pandas as pd\n",
      "0  df = pd.read_csv('data.csv')\n",
      "1                    print(df) \n"
     ]
    }
   ],
   "source": [
    "import pandas as pd\n",
    "\n",
    "df = pd.read_csv('exc.csv')\n",
    "\n",
    "print(df) "
   ]
  },
  {
   "cell_type": "code",
   "execution_count": 13,
   "id": "179454f9-4db5-47d3-8c19-9c6688f1cef2",
   "metadata": {},
   "outputs": [
    {
     "name": "stdout",
     "output_type": "stream",
     "text": [
      "0     False\n",
      "1     False\n",
      "2     False\n",
      "3     False\n",
      "4     False\n",
      "5     False\n",
      "6     False\n",
      "7     False\n",
      "8     False\n",
      "9     False\n",
      "10    False\n",
      "11    False\n",
      "12    False\n",
      "13    False\n",
      "14    False\n",
      "15    False\n",
      "16    False\n",
      "17    False\n",
      "18    False\n",
      "19    False\n",
      "20    False\n",
      "21    False\n",
      "22    False\n",
      "23    False\n",
      "24    False\n",
      "25    False\n",
      "26    False\n",
      "27    False\n",
      "28    False\n",
      "29    False\n",
      "30    False\n",
      "31    False\n",
      "dtype: bool\n"
     ]
    }
   ],
   "source": [
    "import pandas as pd\n",
    "\n",
    "df = pd.read_csv('exc.csv')\n",
    "\n",
    "print(df.duplicated())\n"
   ]
  },
  {
   "cell_type": "code",
   "execution_count": 14,
   "id": "95bbe76c-81be-49f1-a45c-17b40a64e310",
   "metadata": {},
   "outputs": [
    {
     "name": "stdout",
     "output_type": "stream",
     "text": [
      "          Duration          Date  Pulse  Maxpulse  Calories\n",
      "0     0         60  '2020/12/01'    110       130     409.1\n",
      "1     1         60  '2020/12/02'    117       145     479.0\n",
      "2     2         60  '2020/12/03'    103       135     340.0\n",
      "3     3         45  '2020/12/04'    109       175     282.4\n",
      "4     4         45  '2020/12/05'    117       148     406.0\n",
      "5     5         60  '2020/12/06'    102       127     300.0\n",
      "6     6         60  '2020/12/07'    110       136     374.0\n",
      "7     7        450  '2020/12/08'    104       134     253.3\n",
      "8     8         30  '2020/12/09'    109       133     195.1\n",
      "9     9         60  '2020/12/10'     98       124     269.0\n",
      "10    10        60  '2020/12/11'    103       147     329.3\n",
      "11    11        60  '2020/12/12'    100       120     250.7\n",
      "12    12        60  '2020/12/12'    100       120     250.7\n",
      "13    13        60  '2020/12/13'    106       128     345.3\n",
      "14    14        60  '2020/12/14'    104       132     379.3\n",
      "15    15        60  '2020/12/15'     98       123     275.0\n",
      "16    16        60  '2020/12/16'     98       120     215.2\n",
      "17    17        60  '2020/12/17'    100       120     300.0\n",
      "18    18        45  '2020/12/18'     90       112       NaN\n",
      "19    19        60  '2020/12/19'    103       123     323.0\n",
      "20    20        45  '2020/12/20'     97       125     243.0\n",
      "21    21        60  '2020/12/21'    108       131     364.2\n",
      "22    22        45           NaN    100       119     282.0\n",
      "23    23        60  '2020/12/23'    130       101     300.0\n",
      "24    24        45  '2020/12/24'    105       132     246.0\n",
      "25    25        60  '2020/12/25'    102       126     334.5\n",
      "26    26        60      20201226    100       120     250.0\n",
      "27    27        60  '2020/12/27'     92       118     241.0\n",
      "28    28        60  '2020/12/28'    103       132       NaN\n",
      "29    29        60  '2020/12/29'    100       132     280.0\n",
      "30    30        60  '2020/12/30'    102       129     380.3\n",
      "31    31        60  '2020/12/31'     92       115     243.0\n"
     ]
    }
   ],
   "source": [
    "import pandas as pd\n",
    "\n",
    "df = pd.read_csv('exc.csv')\n",
    "\n",
    "df.dropna(inplace = True)\n",
    "\n",
    "print(df.to_string()) "
   ]
  },
  {
   "cell_type": "code",
   "execution_count": 10,
   "id": "e7dc75d7-a1a6-4005-a7f0-b71b9386c451",
   "metadata": {
    "scrolled": true
   },
   "outputs": [
    {
     "name": "stdout",
     "output_type": "stream",
     "text": [
      "  Duration          Date         Pulse     Maxpulse  Calories\n",
      "0    0         60  '2020/12/01'    110       130 ...         \n",
      "1    1         60  '2020/12/02'    117       145 ...         \n",
      "2    2         60  '2020/12/03'    103       135 ...         \n",
      "3    3         45  '2020/12/04'    109       175 ...         \n",
      "4    4         45  '2020/12/05'    117       148 ...         \n",
      "5    5         60  '2020/12/06'    102       127 ...         \n",
      "6    6         60  '2020/12/07'    110       136 ...         \n",
      "7    7        450  '2020/12/08'    104       134 ...         \n",
      "8    8         30  '2020/12/09'    109       133 ...         \n",
      "9    9         60  '2020/12/10'     98       124 ...         \n",
      "   Duration          Date         Pulse     Maxpulse  Calories\n",
      "22    22        45           NaN    100       119 ...         \n",
      "23    23        60  '2020/12/23'    130       101 ...         \n",
      "24    24        45  '2020/12/24'    105       132 ...         \n",
      "25    25        60  '2020/12/25'    102       126 ...         \n",
      "26    26        60      20201226    100       120 ...         \n",
      "27    27        60  '2020/12/27'     92       118 ...         \n",
      "28    28        60  '2020/12/28'    103       132 ...         \n",
      "29    29        60  '2020/12/29'    100       132 ...         \n",
      "30    30        60  '2020/12/30'    102       129 ...         \n",
      "31    31        60  '2020/12/31'     92       115 ...         \n",
      "<class 'pandas.core.frame.DataFrame'>\n",
      "RangeIndex: 32 entries, 0 to 31\n",
      "Data columns (total 1 columns):\n",
      " #   Column                                                       Non-Null Count  Dtype \n",
      "---  ------                                                       --------------  ----- \n",
      " 0   Duration          Date         Pulse     Maxpulse  Calories  32 non-null     object\n",
      "dtypes: object(1)\n",
      "memory usage: 388.0+ bytes\n",
      "None\n"
     ]
    }
   ],
   "source": [
    "import pandas as pd\n",
    "\n",
    "df = pd.read_csv('exc.csv')\n",
    "\n",
    "print(df.head(10))\n",
    "print(df.tail(10)) \n",
    "print(df.info())"
   ]
  },
  {
   "cell_type": "code",
   "execution_count": 7,
   "id": "7263d93f-b447-4b07-8adb-f70d565485ad",
   "metadata": {},
   "outputs": [
    {
     "name": "stdout",
     "output_type": "stream",
     "text": [
      "            Marks        cs     maths   english\n",
      "Marks    1.000000 -0.155408  0.009403  0.922721\n",
      "cs      -0.155408  1.000000  0.786535  0.025120\n",
      "maths    0.009403  0.786535  1.000000  0.203814\n",
      "english  0.922721  0.025120  0.203814  1.000000\n"
     ]
    }
   ],
   "source": [
    "import pandas as pd\n",
    "\n",
    "opt = pd.read_csv('data.csv')\n",
    "\n",
    "print(opt.corr())"
   ]
  },
  {
   "cell_type": "code",
   "execution_count": 13,
   "id": "c12652ee-193d-4b6f-b7c5-68d9c5c4834b",
   "metadata": {},
   "outputs": [
    {
     "name": "stdout",
     "output_type": "stream",
     "text": [
      "     Marks   cs  maths  english\n",
      "0       60  110    130    409.1\n",
      "1       60  117    145    479.0\n",
      "2       60  103    135    340.0\n",
      "3       45  109    175    282.4\n",
      "4       45  117    148    406.0\n",
      "5       60  102    127    300.5\n",
      "6       60  110    136    374.0\n",
      "7       45  104    134    253.3\n",
      "8       30  109    133    195.1\n",
      "9       60   98    124    269.0\n",
      "10      60  103    147    329.3\n",
      "11      60  100    120    250.7\n",
      "12      60  106    128    345.3\n",
      "13      60  104    132    379.3\n",
      "14      60   98    123    275.0\n",
      "15      60   98    120    215.2\n",
      "16      60  100    120    300.0\n",
      "18      60  103    123    323.0\n",
      "19      45   97    125    243.0\n",
      "20      60  108    131    364.2\n",
      "21      45  100    119    282.0\n",
      "22      60  130    101    300.0\n",
      "23      45  105    132    246.0\n",
      "24      60  102    126    334.5\n",
      "25      60  100    120    250.0\n",
      "26      60   92    118    241.0\n",
      "28      60  100    132    280.0\n",
      "29      60  102    129    380.3\n",
      "30      60   92    115    243.0\n",
      "31      45   90    112    180.1\n",
      "32      60  101    124    299.0\n",
      "33      60   93    113    223.0\n",
      "34      60  107    136    361.0\n",
      "35      60  114    140    415.0\n",
      "36      60  102    127    300.5\n",
      "37      60  100    120    300.1\n",
      "38      60  100    120    300.0\n",
      "39      45  104    129    266.0\n",
      "40      45   90    112    180.1\n",
      "41      60   98    126    286.0\n",
      "42      60  100    122    329.4\n",
      "43      60  111    138    400.0\n",
      "44      60  111    131    397.0\n",
      "45      60   99    119    273.0\n",
      "46      60  109    153    387.6\n",
      "47      45  111    136    300.0\n",
      "48      45  108    129    298.0\n",
      "49      60  111    139    397.6\n",
      "50      60  107    136    380.2\n",
      "51      80  123    146    643.1\n",
      "52      60  106    130    263.0\n",
      "53      60  118    151    486.0\n",
      "54      30  136    175    238.0\n",
      "55      60  121    146    450.7\n",
      "56      60  118    121    413.0\n",
      "57      45  115    144    305.0\n",
      "58      20  153    172    226.4\n",
      "59      45  123    152    321.0\n",
      "60     210  108    160   1376.0\n",
      "61     160  110    137   1034.4\n",
      "62     160  109    135    853.0\n",
      "63      45  118    141    341.0\n",
      "64      20  110    130    131.4\n",
      "65     180   90    130    800.4\n",
      "66     150  105    135    873.4\n",
      "67     150  107    130    816.0\n",
      "68      20  106    136    110.4\n",
      "69     300  108    143   1500.2\n",
      "70     150   97    129   1115.0\n",
      "71      60  109    153    387.6\n",
      "72      90  100    127    700.0\n",
      "73     150   97    127    953.2\n",
      "74      45  114    146    304.0\n",
      "75      90   98    125    563.2\n",
      "76      45  105    134    251.0\n",
      "77      45  110    141    300.0\n",
      "78     120  100    130    500.4\n",
      "79     270  100    131   1729.0\n",
      "80      30  159    182    319.2\n",
      "81      45  149    169    344.0\n",
      "82      30  103    139    151.1\n",
      "83     120  100    130    500.0\n",
      "84      45  100    120    225.3\n",
      "85      30  151    170    300.1\n",
      "86      45  102    136    234.0\n",
      "87     120  100    157   1000.1\n",
      "88      45  129    103    242.0\n",
      "89      20   83    107     50.3\n",
      "90     180  101    127    600.1\n",
      "92      30   90    107    105.3\n",
      "93      15   80    100     50.5\n",
      "94      20  150    171    127.4\n",
      "95      20  151    168    229.4\n",
      "96      30   95    128    128.2\n",
      "97      25  152    168    244.2\n",
      "98      30  109    131    188.2\n",
      "99      90   93    124    604.1\n",
      "100     20   95    112     77.7\n",
      "101     90   90    110    500.0\n",
      "102     90   90    100    500.0\n",
      "103     90   90    100    500.4\n",
      "104     30   92    108     92.7\n",
      "105     30   93    128    124.0\n",
      "106    180   90    120    800.3\n",
      "107     30   90    120     86.2\n",
      "108     90   90    120    500.3\n",
      "109    210  137    184   1860.4\n",
      "110     60  102    124    325.2\n",
      "111     45  107    124    275.0\n",
      "112     15  124    139    124.2\n",
      "113     45  100    120    225.3\n",
      "114     60  108    131    367.6\n",
      "115     60  108    151    351.7\n",
      "116     60  116    141    443.0\n",
      "117     60   97    122    277.4\n",
      "119     60  103    124    332.7\n",
      "120     30  112    137    193.9\n",
      "121     45  100    120    100.7\n",
      "122     60  119    169    336.7\n",
      "123     60  107    127    344.9\n",
      "124     60  111    151    368.5\n",
      "125     60   98    122    271.0\n",
      "126     60   97    124    275.3\n",
      "127     60  109    127    382.0\n",
      "128     90   99    125    466.4\n",
      "129     60  114    151    384.0\n",
      "130     60  104    134    342.5\n",
      "131     60  107    138    357.5\n",
      "132     60  103    133    335.0\n",
      "133     60  106    132    327.5\n",
      "134     60  103    136    339.0\n",
      "135     20  136    156    189.0\n",
      "136     45  117    143    317.7\n",
      "137     45  115    137    318.0\n",
      "138     45  113    138    308.0\n",
      "139     20  141    162    222.4\n",
      "140     60  108    135    390.0\n",
      "142     45  100    120    250.4\n",
      "143     45  122    149    335.4\n",
      "144     60  136    170    470.2\n",
      "145     45  106    126    270.8\n",
      "146     60  107    136    400.0\n",
      "147     60  112    146    361.9\n",
      "148     30  103    127    185.0\n",
      "149     60  110    150    409.4\n",
      "150     60  106    134    343.0\n",
      "151     60  109    129    353.2\n",
      "152     60  109    138    374.0\n",
      "153     30  150    167    275.8\n",
      "154     60  105    128    328.0\n",
      "155     60  111    151    368.5\n",
      "156     60   97    131    270.4\n",
      "157     60  100    120    270.4\n",
      "158     60  114    150    382.8\n",
      "159     30   80    120    240.9\n",
      "160     30   85    120    250.4\n",
      "161     45   90    130    260.4\n",
      "162     45   95    130    270.0\n",
      "163     45  100    140    280.9\n",
      "164     60  105    140    290.8\n",
      "165     60  110    145    300.4\n",
      "166     60  115    145    310.2\n",
      "167     75  120    150    320.4\n",
      "168     75  125    150    330.4\n"
     ]
    }
   ],
   "source": [
    "import pandas as pd\n",
    "\n",
    "opt = pd.read_csv('data.csv')\n",
    "opt.dropna(inplace=True)\n",
    "print(opt.to_string())"
   ]
  },
  {
   "cell_type": "code",
   "execution_count": 6,
   "id": "3e09dd01-a878-430f-8314-7e02e8190a49",
   "metadata": {},
   "outputs": [
    {
     "name": "stdout",
     "output_type": "stream",
     "text": [
      "                 Temperature  Ice_Cream_Sales\n",
      "Temperature         1.000000         0.923401\n",
      "Ice_Cream_Sales     0.923401         1.000000\n"
     ]
    },
    {
     "data": {
      "text/plain": [
       "<function matplotlib.pyplot.show(close=None, block=None)>"
      ]
     },
     "execution_count": 6,
     "metadata": {},
     "output_type": "execute_result"
    },
    {
     "data": {
      "image/png": "[encoded data removed]",
      "text/plain": [
       "<Figure size 640x480 with 1 Axes>"
      ]
     },
     "metadata": {},
     "output_type": "display_data"
    }
   ],
   "source": [
    "import pandas as pd\n",
    "import matplotlib.pyplot as plt\n",
    "data = {\n",
    "    \"Temperature\": [22, 25, 32, 28, 30],\n",
    "    \"Ice_Cream_Sales\": [105, 120, 135, 130, 125]\n",
    "}\n",
    "df = pd.DataFrame(data)\n",
    "print(df.corr())\n",
    "df.plot()\n",
    "plt.show"
   ]
  },
  {
   "cell_type": "code",
   "execution_count": null,
   "id": "44cd5f19-b9ac-4f67-8f53-13e171680b57",
   "metadata": {},
   "outputs": [],
   "source": []
  },
  {
   "cell_type": "code",
   "execution_count": 6,
   "id": "38382df3-7106-4f65-a6d7-f3bea5437dfe",
   "metadata": {},
   "outputs": [
    {
     "name": "stdout",
     "output_type": "stream",
     "text": [
      "      Name  Age  Score\n",
      "0    Alisa   26     85\n",
      "1    Bobby   24     88\n",
      "2   Tushar   23     55\n",
      "3  Swastik   22     74\n",
      "4      Ram   23     31\n",
      "5    Dibya   24     77\n",
      "6     Mama   26     75\n",
      "7  Supriya   24     63\n",
      "Name     Ram\n",
      "Age       23\n",
      "Score     31\n",
      "Name: 4, dtype: object\n"
     ]
    }
   ],
   "source": [
    "##maximum roww set\n",
    "import pandas as pd\n",
    "# Student data\n",
    "data = {\n",
    "'Name':['Alisa','Bobby','Tushar','Swastik','Ram','Dibya','Mama','Supriya'],\n",
    "'Age':[26,24,23,22,23,24,26,24],\n",
    "'Score':[85,88,55,74,31,77,75,63]\n",
    "}\n",
    "df = pd.DataFrame(data)\n",
    "print(df)\n",
    "row=df.loc[df['Score'].idxmin()]\n",
    "print(row)"
   ]
  },
  {
   "cell_type": "code",
   "execution_count": 10,
   "id": "dbcbac51-d673-479d-ad7d-b4efb2049491",
   "metadata": {},
   "outputs": [
    {
     "name": "stdout",
     "output_type": "stream",
     "text": [
      "median:\n",
      " 0    4.0\n",
      "1    2.0\n",
      "2    2.0\n",
      "dtype: float64 \n",
      "\n",
      "mean:\n",
      " 0    3.75\n",
      "1    2.25\n",
      "2    2.00\n",
      "dtype: float64 \n",
      "\n",
      "mode:\n",
      "    0  1  2\n",
      "0  4  2  2 \n",
      "\n"
     ]
    }
   ],
   "source": [
    " #mean medi  mode\n",
    "import pandas as pd\n",
    "data = [[1, 1, 2], [6, 4, 2], [4, 2, 1], [4, 2, 3]]\n",
    "df = pd.DataFrame(data)\n",
    "print(\"median:\\n\",df.median(),\"\\n\") \n",
    "print(\"mean:\\n\",df.mean(),\"\\n\")\n",
    "print(\"mode:\\n\",df.mode(),\"\\n\")"
   ]
  },
  {
   "cell_type": "code",
   "execution_count": 14,
   "id": "6f4dec97-672e-4e03-9c29-42a1aa6b3e12",
   "metadata": {},
   "outputs": [
    {
     "name": "stdout",
     "output_type": "stream",
     "text": [
      "   Duration          Date  Pulse  Maxpulse  Calories\n",
      "7       450  '2020/12/08'    104       134     253.3\n"
     ]
    }
   ],
   "source": [
    "#specific row\n",
    "import pandas as pd\n",
    "\n",
    "df = pd.read_csv('d2.csv')\n",
    "\n",
    "for x in df.index:\n",
    "  if df.loc[x, \"Duration\"] <= 120:\n",
    "    df.drop(x, inplace = True)\n",
    "print(df.to_string())\n"
   ]
  },
  {
   "cell_type": "code",
   "execution_count": 13,
   "id": "a341fd60-1f5f-4b3d-a2b5-1e0f335ebd42",
   "metadata": {},
   "outputs": [
    {
     "name": "stdout",
     "output_type": "stream",
     "text": [
      "    Duration          Date  Pulse  Maxpulse  Calories\n",
      "0         60  '2020/12/01'    110       130     409.1\n",
      "1         60  '2020/12/02'    117       145     479.0\n",
      "2         60  '2020/12/03'    103       135     340.0\n",
      "3         45  '2020/12/04'    109       175     282.4\n",
      "4         45  '2020/12/05'    117       148     406.0\n",
      "5         60  '2020/12/06'    102       127     300.0\n",
      "6         60  '2020/12/07'    110       136     374.0\n",
      "7         45  '2020/12/08'    104       134     253.3\n",
      "8         30  '2020/12/09'    109       133     195.1\n",
      "9         60  '2020/12/10'     98       124     269.0\n",
      "10        60  '2020/12/11'    103       147     329.3\n",
      "11        60  '2020/12/12'    100       120     250.7\n",
      "12       600  '2020/12/12'    100       120     250.7\n",
      "13        60  '2020/12/13'    106       128     345.3\n",
      "14        60  '2020/12/14'    104       132     379.3\n",
      "15        60  '2020/12/15'     98       123     275.0\n",
      "16        60  '2020/12/16'     98       120     215.2\n",
      "17        60  '2020/12/17'    100       120     300.0\n",
      "18        45  '2020/12/18'     90       112       NaN\n",
      "19        60  '2020/12/19'    103       123     323.0\n",
      "20        45  '2020/12/20'     97       125     243.0\n",
      "21        60  '2020/12/21'    108       131     364.2\n",
      "22        45           NaN    100       119     282.0\n",
      "23        60  '2020/12/23'    130       101     300.0\n",
      "24        45  '2020/12/24'    105       132     246.0\n",
      "25        60  '2020/12/25'    102       126     334.5\n",
      "26        60      20201226    100       120     250.0\n",
      "27        60  '2020/12/27'     92       118     241.0\n",
      "28        60  '2020/12/28'    103       132       NaN\n",
      "29        60  '2020/12/29'    100       132     280.0\n",
      "30        60  '2020/12/30'    102       129     380.3\n",
      "31        60  '2020/12/31'     92       115     243.0\n"
     ]
    }
   ],
   "source": [
    "##wrong data \n",
    "import pandas as pd\n",
    "\n",
    "df = pd.read_csv('wrong.csv')\n",
    "\n",
    "df.loc[14,'Duration'] = 60\n",
    "\n",
    "print(df.to_string())"
   ]
  },
  {
   "cell_type": "code",
   "execution_count": 9,
   "id": "506279d0-cfba-49bb-b4ba-6dd677e17c2f",
   "metadata": {},
   "outputs": [
    {
     "name": "stdout",
     "output_type": "stream",
     "text": [
      "    Duration       Date  Pulse  Maxpulse  Calories\n",
      "0         60 2020-12-01    110       130     409.1\n",
      "1         60 2020-12-02    117       145     479.0\n",
      "2         60 2020-12-03    103       135     340.0\n",
      "3         45 2020-12-04    109       175     282.4\n",
      "4         45 2020-12-05    117       148     406.0\n",
      "5         60 2020-12-06    102       127     300.0\n",
      "6         60 2020-12-07    110       136     374.0\n",
      "7        450 2020-12-08    104       134     253.3\n",
      "8         30 2020-12-09    109       133     195.1\n",
      "9         60 2020-12-10     98       124     269.0\n",
      "10        60 2020-12-11    103       147     329.3\n",
      "11        60 2020-12-12    100       120     250.7\n",
      "12        60 2020-12-12    100       120     250.7\n",
      "13        60 2020-12-13    106       128     345.3\n",
      "14        60 2020-12-14    104       132     379.3\n",
      "15        60 2020-12-15     98       123     275.0\n",
      "16        60 2020-12-16     98       120     215.2\n",
      "17        60 2020-12-17    100       120     300.0\n",
      "18        45 2020-12-18     90       112       NaN\n",
      "19        60 2020-12-19    103       123     323.0\n",
      "20        45 2020-12-20     97       125     243.0\n",
      "21        60 2020-12-21    108       131     364.2\n",
      "22        45        NaT    100       119     282.0\n",
      "23        60 2020-12-23    130       101     300.0\n",
      "24        45 2020-12-24    105       132     246.0\n",
      "25        60 2020-12-25    102       126     334.5\n",
      "26        60 2020-12-26    100       120     250.0\n",
      "27        60 2020-12-27     92       118     241.0\n",
      "28        60 2020-12-28    103       132       NaN\n",
      "29        60 2020-12-29    100       132     280.0\n",
      "30        60 2020-12-30    102       129     380.3\n",
      "31        60 2020-12-31     92       115     243.0\n"
     ]
    }
   ],
   "source": [
    "##data wrong formate\n",
    "import pandas as pd\n",
    "\n",
    "df = pd.read_csv('d2.csv')\n",
    "\n",
    "df['Date'] = pd.to_datetime(df['Date'], format='mixed')\n",
    "\n",
    "print(df.to_string())\n"
   ]
  },
  {
   "cell_type": "code",
   "execution_count": 11,
   "id": "e089e136-d378-4665-b812-95fc907997a8",
   "metadata": {},
   "outputs": [
    {
     "name": "stdout",
     "output_type": "stream",
     "text": [
      "     Duration  Pulse  Maxpulse  Calories\n",
      "0          60    110       130     409.1\n",
      "1          60    117       145     479.0\n",
      "2          60    103       135     340.0\n",
      "3          45    109       175     282.4\n",
      "4          45    117       148     406.0\n",
      "5          60    102       127     300.5\n",
      "6          60    110       136     374.0\n",
      "7          45    104       134     253.3\n",
      "8          30    109       133     195.1\n",
      "9          60     98       124     269.0\n",
      "10         60    103       147     329.3\n",
      "11         60    100       120     250.7\n",
      "12         60    106       128     345.3\n",
      "13         60    104       132     379.3\n",
      "14         60     98       123     275.0\n",
      "15         60     98       120     215.2\n",
      "16         60    100       120     300.0\n",
      "17         45     90       112  222222.0\n",
      "18         60    103       123     323.0\n",
      "19         45     97       125     243.0\n",
      "20         60    108       131     364.2\n",
      "21         45    100       119     282.0\n",
      "22         60    130       101     300.0\n",
      "23         45    105       132     246.0\n",
      "24         60    102       126     334.5\n",
      "25         60    100       120     250.0\n",
      "26         60     92       118     241.0\n",
      "27         60    103       132  222222.0\n",
      "28         60    100       132     280.0\n",
      "29         60    102       129     380.3\n",
      "30         60     92       115     243.0\n",
      "31         45     90       112     180.1\n",
      "32         60    101       124     299.0\n",
      "33         60     93       113     223.0\n",
      "34         60    107       136     361.0\n",
      "35         60    114       140     415.0\n",
      "36         60    102       127     300.5\n",
      "37         60    100       120     300.1\n",
      "38         60    100       120     300.0\n",
      "39         45    104       129     266.0\n",
      "40         45     90       112     180.1\n",
      "41         60     98       126     286.0\n",
      "42         60    100       122     329.4\n",
      "43         60    111       138     400.0\n",
      "44         60    111       131     397.0\n",
      "45         60     99       119     273.0\n",
      "46         60    109       153     387.6\n",
      "47         45    111       136     300.0\n",
      "48         45    108       129     298.0\n",
      "49         60    111       139     397.6\n",
      "50         60    107       136     380.2\n",
      "51         80    123       146     643.1\n",
      "52         60    106       130     263.0\n",
      "53         60    118       151     486.0\n",
      "54         30    136       175     238.0\n",
      "55         60    121       146     450.7\n",
      "56         60    118       121     413.0\n",
      "57         45    115       144     305.0\n",
      "58         20    153       172     226.4\n",
      "59         45    123       152     321.0\n",
      "60        210    108       160    1376.0\n",
      "61        160    110       137    1034.4\n",
      "62        160    109       135     853.0\n",
      "63         45    118       141     341.0\n",
      "64         20    110       130     131.4\n",
      "65        180     90       130     800.4\n",
      "66        150    105       135     873.4\n",
      "67        150    107       130     816.0\n",
      "68         20    106       136     110.4\n",
      "69        300    108       143    1500.2\n",
      "70        150     97       129    1115.0\n",
      "71         60    109       153     387.6\n",
      "72         90    100       127     700.0\n",
      "73        150     97       127     953.2\n",
      "74         45    114       146     304.0\n",
      "75         90     98       125     563.2\n",
      "76         45    105       134     251.0\n",
      "77         45    110       141     300.0\n",
      "78        120    100       130     500.4\n",
      "79        270    100       131    1729.0\n",
      "80         30    159       182     319.2\n",
      "81         45    149       169     344.0\n",
      "82         30    103       139     151.1\n",
      "83        120    100       130     500.0\n",
      "84         45    100       120     225.3\n",
      "85         30    151       170     300.1\n",
      "86         45    102       136     234.0\n",
      "87        120    100       157    1000.1\n",
      "88         45    129       103     242.0\n",
      "89         20     83       107      50.3\n",
      "90        180    101       127     600.1\n",
      "91         45    107       137  222222.0\n",
      "92         30     90       107     105.3\n",
      "93         15     80       100      50.5\n",
      "94         20    150       171     127.4\n",
      "95         20    151       168     229.4\n",
      "96         30     95       128     128.2\n",
      "97         25    152       168     244.2\n",
      "98         30    109       131     188.2\n",
      "99         90     93       124     604.1\n",
      "100        20     95       112      77.7\n",
      "101        90     90       110     500.0\n",
      "102        90     90       100     500.0\n",
      "103        90     90       100     500.4\n",
      "104        30     92       108      92.7\n",
      "105        30     93       128     124.0\n",
      "106       180     90       120     800.3\n",
      "107        30     90       120      86.2\n",
      "108        90     90       120     500.3\n",
      "109       210    137       184    1860.4\n",
      "110        60    102       124     325.2\n",
      "111        45    107       124     275.0\n",
      "112        15    124       139     124.2\n",
      "113        45    100       120     225.3\n",
      "114        60    108       131     367.6\n",
      "115        60    108       151     351.7\n",
      "116        60    116       141     443.0\n",
      "117        60     97       122     277.4\n",
      "118        60    105       125  222222.0\n",
      "119        60    103       124     332.7\n",
      "120        30    112       137     193.9\n",
      "121        45    100       120     100.7\n",
      "122        60    119       169     336.7\n",
      "123        60    107       127     344.9\n",
      "124        60    111       151     368.5\n",
      "125        60     98       122     271.0\n",
      "126        60     97       124     275.3\n",
      "127        60    109       127     382.0\n",
      "128        90     99       125     466.4\n",
      "129        60    114       151     384.0\n",
      "130        60    104       134     342.5\n",
      "131        60    107       138     357.5\n",
      "132        60    103       133     335.0\n",
      "133        60    106       132     327.5\n",
      "134        60    103       136     339.0\n",
      "135        20    136       156     189.0\n",
      "136        45    117       143     317.7\n",
      "137        45    115       137     318.0\n",
      "138        45    113       138     308.0\n",
      "139        20    141       162     222.4\n",
      "140        60    108       135     390.0\n",
      "141        60     97       127  222222.0\n",
      "142        45    100       120     250.4\n",
      "143        45    122       149     335.4\n",
      "144        60    136       170     470.2\n",
      "145        45    106       126     270.8\n",
      "146        60    107       136     400.0\n",
      "147        60    112       146     361.9\n",
      "148        30    103       127     185.0\n",
      "149        60    110       150     409.4\n",
      "150        60    106       134     343.0\n",
      "151        60    109       129     353.2\n",
      "152        60    109       138     374.0\n",
      "153        30    150       167     275.8\n",
      "154        60    105       128     328.0\n",
      "155        60    111       151     368.5\n",
      "156        60     97       131     270.4\n",
      "157        60    100       120     270.4\n",
      "158        60    114       150     382.8\n",
      "159        30     80       120     240.9\n",
      "160        30     85       120     250.4\n",
      "161        45     90       130     260.4\n",
      "162        45     95       130     270.0\n",
      "163        45    100       140     280.9\n",
      "164        60    105       140     290.8\n",
      "165        60    110       145     300.4\n",
      "166        60    115       145     310.2\n",
      "167        75    120       150     320.4\n",
      "168        75    125       150     330.4\n"
     ]
    }
   ],
   "source": [
    "#fill na \n",
    "import pandas as pd\n",
    "df = pd.read_csv('fill.csv')\n",
    "newdf = df.fillna(222222)\n",
    "print(newdf.to_string())"
   ]
  },
  {
   "cell_type": "code",
   "execution_count": null,
   "id": "b0fc9652-75cb-40d5-bcef-e7a1b21b2c17",
   "metadata": {},
   "outputs": [],
   "source": []
  }
 ],
 "metadata": {
  "kernelspec": {
   "display_name": "Python 3 (ipykernel)",
   "language": "python",
   "name": "python3"
  },
  "language_info": {
   "codemirror_mode": {
    "name": "ipython",
    "version": 3
   },
   "file_extension": ".py",
   "mimetype": "text/x-python",
   "name": "python",
   "nbconvert_exporter": "python",
   "pygments_lexer": "ipython3",
   "version": "3.11.7"
  }
 },
 "nbformat": 4,
 "nbformat_minor": 5
}
