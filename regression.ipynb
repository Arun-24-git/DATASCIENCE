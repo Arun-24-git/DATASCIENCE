{
 "cells": [
  {
   "cell_type": "code",
   "execution_count": 12,
   "id": "6db1966c-4769-46c1-b918-0eb062c7471b",
   "metadata": {},
   "outputs": [
    {
     "name": "stdout",
     "output_type": "stream",
     "text": [
      "linear regression MSE: 0.037113794407976845\n"
     ]
    }
   ],
   "source": [
    "import numpy as np\n",
    "import pandas as pd\n",
    "from sklearn.datasets import load_iris\n",
    "from sklearn.model_selection import train_test_split\n",
    "from sklearn.linear_model import LinearRegression\n",
    "from sklearn.metrics import mean_squared_error\n",
    "#bostonhousing dataset\n",
    "data = load_iris()\n",
    "\n",
    "X = data.data\n",
    "y = data.target\n",
    "X_train, X_test, y_train, y_test = train_test_split(X, y, test_size=0.2, random_state=42)\n",
    "# Linear Regression\n",
    "\n",
    "linear_model = LinearRegression()\n",
    "linear_model.fit(X_train, y_train)\n",
    "linear_predictions = linear_model.predict(X_test)\n",
    "linear_mse = mean_squared_error(y_test, linear_predictions)\n",
    "print(f'linear regression MSE: {linear_mse}')"
   ]
  },
  {
   "cell_type": "code",
   "execution_count": 9,
   "id": "c9daa8d3-9743-402c-82ee-082a38a37d4c",
   "metadata": {},
   "outputs": [
    {
     "ename": "SyntaxError",
     "evalue": "invalid syntax (3048960695.py, line 1)",
     "output_type": "error",
     "traceback": [
      "\u001b[0;36m  Cell \u001b[0;32mIn[9], line 1\u001b[0;36m\u001b[0m\n\u001b[0;31m    //`load_boston` has been removed from scikit-learn since version 1.2.\u001b[0m\n\u001b[0m    ^\u001b[0m\n\u001b[0;31mSyntaxError\u001b[0m\u001b[0;31m:\u001b[0m invalid syntax\n"
     ]
    }
   ],
   "source": [
    "#load_boston` has been removed from scikit-learn since version 1.2.\n",
    "    \n",
    "\n",
    "    "
   ]
  },
  {
   "cell_type": "code",
   "execution_count": 11,
   "id": "f3864512-3b6f-4607-b552-5632a8bb47c2",
   "metadata": {},
   "outputs": [
    {
     "name": "stdout",
     "output_type": "stream",
     "text": [
      "Multiple Linear Regression MSE: 0.037113794407976845\n"
     ]
    }
   ],
   "source": [
    "#multiple linear\n",
    "import numpy as np\n",
    "\n",
    "import pandas as pd\n",
    "from sklearn.datasets import load_iris\n",
    "from sklearn.model_selection import train_test_split\n",
    "from sklearn.linear_model import LinearRegression\n",
    "from sklearn.metrics import mean_squared_error\n",
    "#load data\n",
    "data =load_iris()\n",
    "\n",
    "X = data.data\n",
    "y = data.target\n",
    "X_train, X_test, y_train, y_test = train_test_split(X, y, test_size=0.2, random_state=42)\n",
    "\n",
    "mutliple_model=LinearRegression()\n",
    "mutliple_model.fit(X_train, y_train)\n",
    "multiple_mse=mean_squared_error(y_test, lr_predictions)\n",
    "print(f'Multiple Linear Regression MSE: {multiple_mse}')\n"
   ]
  },
  {
   "cell_type": "code",
   "execution_count": 14,
   "id": "b5bfad64-99b6-44fb-85ad-5f7878a57523",
   "metadata": {},
   "outputs": [
    {
     "name": "stdout",
     "output_type": "stream",
     "text": [
      "Predicted Heart Disease Percentages:\n",
      "       Biking    Smoking  Predicted_HeartDisease\n",
      "0    8.428896  24.774566                   10.04\n",
      "1   24.463843  39.182651                   12.99\n",
      "2   15.079113   8.182797                   -0.05\n",
      "3    5.230993  26.225569                   11.62\n",
      "4    0.729479  43.860027                   21.66\n",
      "..        ...        ...                     ...\n",
      "95  28.999645  44.978729                   14.69\n",
      "96  26.324160  33.594637                    9.69\n",
      "97   8.736874  40.527667                   17.85\n",
      "98  21.437878  16.759862                    2.55\n",
      "99  22.735383  22.610897                    5.14\n",
      "\n",
      "[100 rows x 3 columns]\n",
      "\n",
      "Mean Squared Error (MSE): 24.3281\n",
      "R^2 Score: 0.7019\n"
     ]
    }
   ],
   "source": [
    "\n",
    "import pandas as pd\n",
    "from sklearn.model_selection import train_test_split\n",
    "from sklearn.linear_model import LinearRegression\n",
    "from sklearn.metrics import mean_squared_error, r2_score\n",
    "\n",
    "data = pd.read_csv(\"heart.csv\")\n",
    "X = data[['Biking', 'Smoking']]   # two independent variables\n",
    "y = data['HeartDisease']          # dependent variable\n",
    "X_train, X_test, y_train, y_test = train_test_split(X, y, test_size=0.2, random_state=42)\n",
    "\n",
    "mlr_model = LinearRegression()\n",
    "mlr_model.fit(X_train, y_train)\n",
    "y_pred = mlr_model.predict(X_test)\n",
    "#analyse mode\n",
    "mse = mean_squared_error(y_test, y_pred)\n",
    "r2 = r2_score(y_test, y_pred)\n",
    "predictions = pd.DataFrame({\n",
    "    'Biking': X_test['Biking'].values,\n",
    "    'Smoking': X_test['Smoking'].values,\n",
    "    'Predicted_HeartDisease': y_pred.round(2)\n",
    "})\n",
    "print(\"Predicted Heart Disease Percentages:\")\n",
    "print(predictions)\n",
    "\n",
    "# Step 9: Print performance metrics\n",
    "print(f\"\\nMean Squared Error (MSE): {mse:.4f}\")\n",
    "print(f\"R^2 Score: {r2:.4f}\")\n"
   ]
  },
  {
   "cell_type": "code",
   "execution_count": null,
   "id": "b5a07569-b240-46d1-a5a8-5e5f9d0856fb",
   "metadata": {},
   "outputs": [],
   "source": []
  }
 ],
 "metadata": {
  "kernelspec": {
   "display_name": "Python 3 (ipykernel)",
   "language": "python",
   "name": "python3"
  },
  "language_info": {
   "codemirror_mode": {
    "name": "ipython",
    "version": 3
   },
   "file_extension": ".py",
   "mimetype": "text/x-python",
   "name": "python",
   "nbconvert_exporter": "python",
   "pygments_lexer": "ipython3",
   "version": "3.11.7"
  }
 },
 "nbformat": 4,
 "nbformat_minor": 5
}
