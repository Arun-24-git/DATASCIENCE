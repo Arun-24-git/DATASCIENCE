{
 "cells": [
  {
   "cell_type": "code",
   "execution_count": 6,
   "id": "6f96a6d4-2d6d-4ce4-b176-80655758f61b",
   "metadata": {},
   "outputs": [
    {
     "name": "stdout",
     "output_type": "stream",
     "text": [
      "ADDITION of A and B [[ 7  7]\n",
      " [10  9]]\n",
      "SUBTRACTION of A and B [[-5 -3]\n",
      " [-4 -1]]\n",
      "MULTPLICATION  of A and B [[20 15]\n",
      " [46 35]]\n",
      "TRANSPOSE of A  [[1 3]\n",
      " [2 4]]\n",
      "DOT product of A and B [[20 15]\n",
      " [46 35]]\n"
     ]
    }
   ],
   "source": [
    "import numpy as np\n",
    "A=np.array([[1,2],[3,4]])\n",
    "B=np.array([[6,5],[7,5]])\n",
    "C=A+B\n",
    "D=A-B         \n",
    "E=A@B \n",
    "T=A.T\n",
    "F=np.dot(A,B)\n",
    "print(\"ADDITION of A and B\",C)\n",
    "print(\"SUBTRACTION of A and B\",D)\n",
    "print(\"MULTPLICATION  of A and B\",E)\n",
    "print(\"TRANSPOSE of A \",T)\n",
    "print(\"DOT product of A and B\",F)"
   ]
  },
  {
   "cell_type": "code",
   "execution_count": null,
   "id": "1523606a-0703-48ba-b016-19c109aa4d08",
   "metadata": {},
   "outputs": [],
   "source": []
  }
 ],
 "metadata": {
  "kernelspec": {
   "display_name": "Python 3 (ipykernel)",
   "language": "python",
   "name": "python3"
  },
  "language_info": {
   "codemirror_mode": {
    "name": "ipython",
    "version": 3
   },
   "file_extension": ".py",
   "mimetype": "text/x-python",
   "name": "python",
   "nbconvert_exporter": "python",
   "pygments_lexer": "ipython3",
   "version": "3.11.7"
  }
 },
 "nbformat": 4,
 "nbformat_minor": 5
}
